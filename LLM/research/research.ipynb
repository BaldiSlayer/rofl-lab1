{
 "cells": [
  {
   "cell_type": "markdown",
   "metadata": {
    "id": "6p9cJFLdEfS1"
   },
   "source": [
    "### Гипотезы\n",
    "1. Убрать ненужные слова по типу: расскажи, докажи, из, ...\n",
    "\n",
    "    Есть два пути: выбрать опорные слова из определений и оставить только их или собрать служебные и второстепенные слова и выкинуть служебные\n",
    "2. На каком языке лучше (хотим русский)\n",
    "3. Дообучить русскую нейронку (недавно вышла Т-pro)"
   ]
  },
  {
   "cell_type": "markdown",
   "metadata": {
    "id": "eBdqyMMU0_GZ"
   },
   "source": [
    "## качаю нужные библиотеки"
   ]
  },
  {
   "cell_type": "code",
   "execution_count": 54,
   "metadata": {
    "colab": {
     "base_uri": "https://localhost:8080/"
    },
    "collapsed": true,
    "id": "8nxzUr8-3NsH",
    "outputId": "03bfd5b3-9566-4742-cd49-d58b218c35e8"
   },
   "outputs": [
    {
     "name": "stdout",
     "output_type": "stream",
     "text": [
      "Collecting pymorphy2\n",
      "  Downloading pymorphy2-0.9.1-py3-none-any.whl.metadata (3.6 kB)\n",
      "Collecting dawg-python>=0.7.1 (from pymorphy2)\n",
      "  Downloading DAWG_Python-0.7.2-py2.py3-none-any.whl.metadata (7.0 kB)\n",
      "Collecting pymorphy2-dicts-ru<3.0,>=2.4 (from pymorphy2)\n",
      "  Downloading pymorphy2_dicts_ru-2.4.417127.4579844-py2.py3-none-any.whl.metadata (2.1 kB)\n",
      "Collecting docopt>=0.6 (from pymorphy2)\n",
      "  Downloading docopt-0.6.2.tar.gz (25 kB)\n",
      "  Preparing metadata (setup.py) ... \u001b[?25l\u001b[?25hdone\n",
      "Downloading pymorphy2-0.9.1-py3-none-any.whl (55 kB)\n",
      "\u001b[2K   \u001b[90m━━━━━━━━━━━━━━━━━━━━━━━━━━━━━━━━━━━━━━━━\u001b[0m \u001b[32m55.5/55.5 kB\u001b[0m \u001b[31m2.8 MB/s\u001b[0m eta \u001b[36m0:00:00\u001b[0m\n",
      "\u001b[?25hDownloading DAWG_Python-0.7.2-py2.py3-none-any.whl (11 kB)\n",
      "Downloading pymorphy2_dicts_ru-2.4.417127.4579844-py2.py3-none-any.whl (8.2 MB)\n",
      "\u001b[2K   \u001b[90m━━━━━━━━━━━━━━━━━━━━━━━━━━━━━━━━━━━━━━━━\u001b[0m \u001b[32m8.2/8.2 MB\u001b[0m \u001b[31m59.7 MB/s\u001b[0m eta \u001b[36m0:00:00\u001b[0m\n",
      "\u001b[?25hBuilding wheels for collected packages: docopt\n",
      "  Building wheel for docopt (setup.py) ... \u001b[?25l\u001b[?25hdone\n",
      "  Created wheel for docopt: filename=docopt-0.6.2-py2.py3-none-any.whl size=13706 sha256=6e58a6642933c1b236b8f53fac622f161774b4493cf4dc34626bc2d2259dee76\n",
      "  Stored in directory: /root/.cache/pip/wheels/fc/ab/d4/5da2067ac95b36618c629a5f93f809425700506f72c9732fac\n",
      "Successfully built docopt\n",
      "Installing collected packages: pymorphy2-dicts-ru, docopt, dawg-python, pymorphy2\n",
      "Successfully installed dawg-python-0.7.2 docopt-0.6.2 pymorphy2-0.9.1 pymorphy2-dicts-ru-2.4.417127.4579844\n"
     ]
    }
   ],
   "source": [
    "!pip install pymorphy2"
   ]
  },
  {
   "cell_type": "code",
   "execution_count": 71,
   "metadata": {
    "colab": {
     "base_uri": "https://localhost:8080/"
    },
    "collapsed": true,
    "id": "E50FJEIezntI",
    "outputId": "b879c8b8-4c38-4678-9106-742e3a7ff19c"
   },
   "outputs": [
    {
     "name": "stdout",
     "output_type": "stream",
     "text": [
      "Requirement already satisfied: pdfminer.six in /usr/local/lib/python3.10/dist-packages (20240706)\n",
      "Requirement already satisfied: charset-normalizer>=2.0.0 in /usr/local/lib/python3.10/dist-packages (from pdfminer.six) (3.4.0)\n",
      "Requirement already satisfied: cryptography>=36.0.0 in /usr/local/lib/python3.10/dist-packages (from pdfminer.six) (43.0.3)\n",
      "Requirement already satisfied: cffi>=1.12 in /usr/local/lib/python3.10/dist-packages (from cryptography>=36.0.0->pdfminer.six) (1.17.1)\n",
      "Requirement already satisfied: pycparser in /usr/local/lib/python3.10/dist-packages (from cffi>=1.12->cryptography>=36.0.0->pdfminer.six) (2.22)\n"
     ]
    }
   ],
   "source": [
    "!pip install pdfminer.six"
   ]
  },
  {
   "cell_type": "code",
   "execution_count": 56,
   "metadata": {
    "colab": {
     "base_uri": "https://localhost:8080/"
    },
    "collapsed": true,
    "id": "SSsLEe_zznq9",
    "outputId": "83671d3b-5276-4067-a625-d84fdc89d09c"
   },
   "outputs": [
    {
     "name": "stdout",
     "output_type": "stream",
     "text": [
      "Requirement already satisfied: pdfminer.six[image] in /usr/local/lib/python3.10/dist-packages (20240706)\n",
      "Requirement already satisfied: charset-normalizer>=2.0.0 in /usr/local/lib/python3.10/dist-packages (from pdfminer.six[image]) (3.4.0)\n",
      "Requirement already satisfied: cryptography>=36.0.0 in /usr/local/lib/python3.10/dist-packages (from pdfminer.six[image]) (43.0.3)\n",
      "Requirement already satisfied: Pillow in /usr/local/lib/python3.10/dist-packages (from pdfminer.six[image]) (11.0.0)\n",
      "Requirement already satisfied: cffi>=1.12 in /usr/local/lib/python3.10/dist-packages (from cryptography>=36.0.0->pdfminer.six[image]) (1.17.1)\n",
      "Requirement already satisfied: pycparser in /usr/local/lib/python3.10/dist-packages (from cffi>=1.12->cryptography>=36.0.0->pdfminer.six[image]) (2.22)\n"
     ]
    }
   ],
   "source": [
    "!pip install 'pdfminer.six[image]'"
   ]
  },
  {
   "cell_type": "code",
   "execution_count": 87,
   "metadata": {
    "colab": {
     "base_uri": "https://localhost:8080/"
    },
    "id": "2oObxkmlGca2",
    "outputId": "1e9711d3-9e44-4a96-f970-10ad653fddf6"
   },
   "outputs": [
    {
     "name": "stdout",
     "output_type": "stream",
     "text": [
      "\u001b[31mERROR: Could not find a version that satisfies the requirement faiss (from versions: none)\u001b[0m\u001b[31m\n",
      "\u001b[0m\u001b[31mERROR: No matching distribution found for faiss\u001b[0m\u001b[31m\n",
      "\u001b[0m"
     ]
    }
   ],
   "source": [
    "!pip install faiss"
   ]
  },
  {
   "cell_type": "markdown",
   "metadata": {
    "id": "CyaR7pFa1Jij"
   },
   "source": [
    "## всякие импорты"
   ]
  },
  {
   "cell_type": "code",
   "execution_count": 93,
   "metadata": {
    "id": "PMtjmNHRSAE3"
   },
   "outputs": [],
   "source": [
    "import re # регулярки\n",
    "import nltk # для стоп-слов\n",
    "from nltk.tokenize import sent_tokenize # для токенизации\n",
    "from nltk.tokenize import RegexpTokenizer # разбиваем на слова\n",
    "from nltk.corpus import stopwords # убираем стоп слова\n",
    "import pymorphy2 # для лемантизации\n",
    "from collections import Counter # подсчёт частых\n",
    "from gensim.models.phrases import Phrases, Phraser # дли биграмм\n",
    "from scipy import spatial\n",
    "import numpy as np\n",
    "import tensorflow as tf\n",
    "\n",
    "from gensim.models.word2vec import Word2Vec\n",
    "from gensim.models.doc2vec import Doc2Vec, TaggedDocument\n",
    "\n",
    "from pdfminer.high_level import extract_text # pdf в текст\n",
    "\n",
    "from google.colab import drive # подключение к диску"
   ]
  },
  {
   "cell_type": "code",
   "execution_count": 58,
   "metadata": {
    "colab": {
     "base_uri": "https://localhost:8080/"
    },
    "id": "pe5CpIvY0RY7",
    "outputId": "2ec5e0cb-2628-4afc-a03f-2022d66c3596"
   },
   "outputs": [
    {
     "name": "stdout",
     "output_type": "stream",
     "text": [
      "Mounted at /content/drive\n"
     ]
    }
   ],
   "source": [
    "drive.mount('/content/drive', force_remount=True)"
   ]
  },
  {
   "cell_type": "code",
   "execution_count": 59,
   "metadata": {
    "colab": {
     "base_uri": "https://localhost:8080/"
    },
    "id": "1jjMPO7aSlRS",
    "outputId": "2db0b24a-f7dd-4752-8f36-8b9d10edd7b9"
   },
   "outputs": [
    {
     "name": "stderr",
     "output_type": "stream",
     "text": [
      "[nltk_data] Downloading package stopwords to /root/nltk_data...\n",
      "[nltk_data]   Unzipping corpora/stopwords.zip.\n",
      "[nltk_data] Downloading package punkt to /root/nltk_data...\n",
      "[nltk_data]   Unzipping tokenizers/punkt.zip.\n",
      "[nltk_data] Downloading package punkt_tab to /root/nltk_data...\n",
      "[nltk_data]   Unzipping tokenizers/punkt_tab.zip.\n"
     ]
    },
    {
     "data": {
      "text/plain": [
       "True"
      ]
     },
     "execution_count": 59,
     "metadata": {},
     "output_type": "execute_result"
    }
   ],
   "source": [
    "nltk.download('stopwords')\n",
    "nltk.download('punkt')\n",
    "nltk.download('punkt_tab')"
   ]
  },
  {
   "cell_type": "code",
   "execution_count": 60,
   "metadata": {
    "collapsed": true,
    "id": "dQ6xQf3A3dSf"
   },
   "outputs": [],
   "source": [
    "stopwords_ru = stopwords.words('russian')\n",
    "tokenizer = RegexpTokenizer('\\w+')\n",
    "morph = pymorphy2.MorphAnalyzer()"
   ]
  },
  {
   "cell_type": "markdown",
   "metadata": {
    "id": "p-KjpkXL2vZh"
   },
   "source": [
    "## начинаем работу с текстами"
   ]
  },
  {
   "cell_type": "markdown",
   "metadata": {
    "id": "Ot4HjDfUDErj"
   },
   "source": [
    "### книга"
   ]
  },
  {
   "cell_type": "code",
   "execution_count": 61,
   "metadata": {
    "id": "VvKlY3SokHGK"
   },
   "outputs": [],
   "source": [
    "# лекции за 2023 год + материалы итмо + книга хопкрофта на русском\n",
    "all_texts = []\n",
    "\n",
    "for i in range(1, 69):\n",
    "    t = extract_text(f\"/content/drive/MyDrive/texts/{i}.pdf\")\n",
    "    # глазами зацепилась за не оч хорошие переносы, поэтому фикс\n",
    "    t = t.replace('-\\n', '').replace('\\n\\n', '\\n')\n",
    "    all_texts.append(t)"
   ]
  },
  {
   "cell_type": "markdown",
   "metadata": {
    "id": "2iuzfpEoDHi9"
   },
   "source": [
    "## код"
   ]
  },
  {
   "cell_type": "markdown",
   "metadata": {
    "id": "CxCQYjIPsd65"
   },
   "source": [
    "### какие-то мои функции"
   ]
  },
  {
   "cell_type": "code",
   "execution_count": 62,
   "metadata": {
    "id": "rg8_EDpD8yhb"
   },
   "outputs": [],
   "source": [
    "# подсчёт метрики k\n",
    "def my_metrics(user, db, clean_dict=None, trash_dict=None):\n",
    "    user = make_clean(user)\n",
    "    db = make_clean(db)\n",
    "\n",
    "    user = get_words_only(user)\n",
    "    db = get_words_only(db)\n",
    "\n",
    "    if clean_dict is not None:\n",
    "        user = [w for w in user if w in my_dict]\n",
    "        db = [w for w in db if w in my_dict]\n",
    "\n",
    "    if trash_dict is not None:\n",
    "        user = [w for w in user if w not in trash_dict]\n",
    "        db = [w for w in db if w not in trash_dict]\n",
    "\n",
    "    print(user)\n",
    "    print(db)\n",
    "\n",
    "    in_both = list(set(user) & set(db))\n",
    "\n",
    "    return len(in_both) / (len(db) + epsilon)"
   ]
  },
  {
   "cell_type": "code",
   "execution_count": 63,
   "metadata": {
    "id": "LhYu7mWu9wSF"
   },
   "outputs": [],
   "source": [
    "# берём только слова из предложений\n",
    "def get_words_only(sentences_tokenize):\n",
    "    words = [item for sent in sentences_tokenize for item in sent]\n",
    "\n",
    "    return words"
   ]
  },
  {
   "cell_type": "code",
   "execution_count": 64,
   "metadata": {
    "id": "RFvD0NeL2Wvu"
   },
   "outputs": [],
   "source": [
    "def make_clean(text):\n",
    "    # чистим текст\n",
    "    text = text.lower()\n",
    "    text = re.sub('\\n|\\t|\\r', ' ', text)\n",
    "    # преобразуем в предложения\n",
    "    sentences = sent_tokenize(text)\n",
    "    # бъём предложения на слова\n",
    "    sentences_tokenize = [tokenizer.tokenize(item) for item in sentences]\n",
    "    # убираем стоп слова\n",
    "    sentences_tokenize = [[item for item in sent if (item not in stopwords_ru and re.match('^[а-я]*$', item))] for sent in sentences_tokenize]\n",
    "    # лемантизируем слова\n",
    "    sentences_tokenize = [[morph.normal_forms(item)[0] for item in sent] for sent in sentences_tokenize]\n",
    "\n",
    "    return sentences_tokenize"
   ]
  },
  {
   "cell_type": "code",
   "execution_count": 65,
   "metadata": {
    "id": "QCoWUMKk30Kf"
   },
   "outputs": [],
   "source": [
    "# словарь популярных слов\n",
    "def get_dict_words(sentences_tokenize):\n",
    "    words = [item for sent in  sentences_tokenize for item in sent]\n",
    "    word_dict = Counter(words)\n",
    "    common = word_dict.most_common()\n",
    "\n",
    "    return common"
   ]
  },
  {
   "cell_type": "code",
   "execution_count": 66,
   "metadata": {
    "id": "rtzmzqEu8iQh"
   },
   "outputs": [],
   "source": [
    "# полезные слова = часто встречаем их\n",
    "def get_useful(common):\n",
    "    my_dict = {}\n",
    "\n",
    "    for i, j in common:\n",
    "        if i != 'ε' and len(i) > 2 and re.match('^[а-я]*$', i):\n",
    "            my_dict[i] = j\n",
    "\n",
    "    return my_dict"
   ]
  },
  {
   "cell_type": "markdown",
   "metadata": {
    "id": "xLyXh4KBsh7A"
   },
   "source": [
    "### смотрим на текст"
   ]
  },
  {
   "cell_type": "code",
   "execution_count": 67,
   "metadata": {
    "id": "tnfIQEDcpTXn"
   },
   "outputs": [],
   "source": [
    "epsilon = 0.001\n",
    "\n",
    "all_sentences = []\n",
    "all_words = []\n",
    "\n",
    "my_dict = {}\n",
    "\n",
    "# мусорные конструкции\n",
    "trash_dict = ['че', 'доказать', 'рассказать', 'ваш', 'привести', 'сделать', 'описать', 'дать', 'что']"
   ]
  },
  {
   "cell_type": "code",
   "execution_count": 68,
   "metadata": {
    "id": "ntRI3jSxo-Xi"
   },
   "outputs": [],
   "source": [
    "for text in all_texts:\n",
    "    t = make_clean(text)\n",
    "    if len(t) > 0:\n",
    "        all_sentences = all_sentences + t\n",
    "\n",
    "    # частые слова\n",
    "    common = get_dict_words(t)\n",
    "    all_words += [i for (i, j) in common]\n",
    "    # «полезные» слова\n",
    "    useful_dict = get_useful(common)\n",
    "\n",
    "    new_dict = dict(list(my_dict.items()) + list(useful_dict.items()))\n",
    "    my_dict = new_dict.copy()"
   ]
  },
  {
   "cell_type": "markdown",
   "metadata": {
    "id": "3H7KF6QYK_TE"
   },
   "source": [
    "### предобработка перед doc2vec"
   ]
  },
  {
   "cell_type": "code",
   "execution_count": 82,
   "metadata": {
    "collapsed": true,
    "id": "EpWP_U96LFH4"
   },
   "outputs": [],
   "source": [
    "vocab_index = [TaggedDocument(text,[k]) for k, text in enumerate(all_sentences)]\n",
    "\n",
    "model = Doc2Vec(vector_size=300, window=1, min_count=3, workers=6, epochs=20)\n",
    "\n",
    "model.build_vocab(vocab_index)\n",
    "model.train(vocab_index, total_examples=model.corpus_count, epochs=20)"
   ]
  },
  {
   "cell_type": "code",
   "execution_count": 98,
   "metadata": {
    "colab": {
     "base_uri": "https://localhost:8080/"
    },
    "id": "vtVaalz1Mg4i",
    "outputId": "65fbfa5c-44d7-4fc6-ae8d-19ec324b18b8"
   },
   "outputs": [
    {
     "data": {
      "text/plain": [
       "0.9227588153707628"
      ]
     },
     "execution_count": 98,
     "metadata": {},
     "output_type": "execute_result"
    }
   ],
   "source": [
    "s1 = model.infer_vector('дка'.split())\n",
    "s2 = model.infer_vector('регулярные языки и их свойства'.split())\n",
    "\n",
    "s1 = tf.math.l2_normalize(s1).numpy()\n",
    "s2 = tf.math.l2_normalize(s2).numpy()\n",
    "\n",
    "cos_distance = spatial.distance.cosine(s1, s2)\n",
    "\n",
    "cos_distance"
   ]
  },
  {
   "cell_type": "code",
   "execution_count": 99,
   "metadata": {
    "colab": {
     "base_uri": "https://localhost:8080/"
    },
    "id": "utLC_GHmN8SS",
    "outputId": "81e0c3b2-39a9-47cb-e72b-c791f16af0ba"
   },
   "outputs": [
    {
     "name": "stderr",
     "output_type": "stream",
     "text": [
      "<ipython-input-99-29078a78222d>:1: DeprecationWarning: Call to deprecated `docvecs` (The `docvecs` property has been renamed `dv`.).\n",
      "  similar_vec = model.docvecs.most_similar([s2], topn=10)\n"
     ]
    }
   ],
   "source": [
    "similar_vec = model.docvecs.most_similar([s2], topn=10)\n",
    "\n",
    "similar_sent = [\" \".join(vocab_index[top[0]].words) for top in similar_vec]"
   ]
  },
  {
   "cell_type": "markdown",
   "metadata": {
    "id": "DqvEnLZ9spVQ"
   },
   "source": [
    "### предобработка перед w2v"
   ]
  },
  {
   "cell_type": "code",
   "execution_count": null,
   "metadata": {
    "id": "jSfuYLAAstDw"
   },
   "outputs": [],
   "source": [
    "bigram = Phrases(all_sentences)\n",
    "bigram_transformer = Phraser(bigram)\n",
    "\n",
    "# генератор текстов с биграммами\n",
    "def bigram_generator():\n",
    "    for text in all_sentences:\n",
    "        yield bigram_transformer[[word for word in text]]"
   ]
  },
  {
   "cell_type": "code",
   "execution_count": null,
   "metadata": {
    "id": "SLWhw_oRvJUp"
   },
   "outputs": [],
   "source": [
    "trigram = Phrases(bigram_generator())\n",
    "trigram_transformer = Phraser(trigram)\n",
    "\n",
    "def trigram_generator():\n",
    "    for text in all_sentences:\n",
    "        yield trigram_transformer[bigram_transformer[[word for word in text]]]"
   ]
  },
  {
   "cell_type": "code",
   "execution_count": null,
   "metadata": {
    "id": "QR-OKoYAPPqO"
   },
   "outputs": [],
   "source": [
    "ok = [i for i in trigram_generator()]"
   ]
  },
  {
   "cell_type": "code",
   "execution_count": null,
   "metadata": {
    "id": "fU_fJ8wnvXDt"
   },
   "outputs": [],
   "source": [
    "model = Word2Vec(vector_size=300, window=10, min_count=3, workers=4)\n",
    "model.build_vocab(ok)"
   ]
  },
  {
   "cell_type": "code",
   "execution_count": null,
   "metadata": {
    "colab": {
     "base_uri": "https://localhost:8080/"
    },
    "id": "moDBxGzkPx8U",
    "outputId": "2757a0cc-6c05-497b-ac3b-80957175ff4f"
   },
   "outputs": [
    {
     "data": {
      "text/plain": [
       "21753"
      ]
     },
     "execution_count": 373,
     "metadata": {},
     "output_type": "execute_result"
    }
   ],
   "source": [
    "model.corpus_count"
   ]
  },
  {
   "cell_type": "code",
   "execution_count": null,
   "metadata": {
    "colab": {
     "base_uri": "https://localhost:8080/"
    },
    "id": "SOR_qrPIvdNd",
    "outputId": "a4f6658a-222a-4896-edb8-75e071fc8276"
   },
   "outputs": [
    {
     "data": {
      "text/plain": [
       "(56711352, 67266500)"
      ]
     },
     "execution_count": 374,
     "metadata": {},
     "output_type": "execute_result"
    }
   ],
   "source": [
    "model.train(ok, total_examples=model.corpus_count, epochs=500)"
   ]
  },
  {
   "cell_type": "code",
   "execution_count": null,
   "metadata": {
    "colab": {
     "base_uri": "https://localhost:8080/"
    },
    "id": "N1Up3Fc31jjO",
    "outputId": "b0e92a6d-da09-4b0c-b743-9184e332dfa8"
   },
   "outputs": [
    {
     "data": {
      "text/plain": [
       "[('нка', 0.47808364033699036),\n",
       " ('автомат', 0.4368232488632202),\n",
       " ('состояние', 0.3628830313682556),\n",
       " ('процесс_допуск', 0.2999037206172943),\n",
       " ('нда', 0.2974991500377655),\n",
       " ('множество', 0.2651441693305969),\n",
       " ('так_быть', 0.2553767263889313),\n",
       " ('эквивалентный_дка', 0.24655848741531372),\n",
       " ('заключительный_состояние', 0.24137888848781586),\n",
       " ('начальный_состояние', 0.2403261363506317)]"
      ]
     },
     "execution_count": 383,
     "metadata": {},
     "output_type": "execute_result"
    }
   ],
   "source": [
    "model.wv.most_similar('дка')"
   ]
  },
  {
   "cell_type": "code",
   "execution_count": null,
   "metadata": {
    "id": "T2QHea_0vgBl"
   },
   "outputs": [],
   "source": [
    "# сохраню потом\n",
    "model.save('wv_model')"
   ]
  },
  {
   "cell_type": "code",
   "execution_count": null,
   "metadata": {
    "id": "irA_1fUlviOa"
   },
   "outputs": [],
   "source": [
    "trigram_transformer.save('wv_trigramm')"
   ]
  },
  {
   "cell_type": "markdown",
   "metadata": {
    "id": "Hc3EmqlPrQjB"
   },
   "source": [
    "# подвал"
   ]
  },
  {
   "cell_type": "code",
   "execution_count": null,
   "metadata": {
    "id": "yvs_UWnh2WsV"
   },
   "outputs": [],
   "source": [
    "# чистим текст из пдфки\n",
    "test = make_clean(all_texts[0])"
   ]
  },
  {
   "cell_type": "code",
   "execution_count": null,
   "metadata": {
    "collapsed": true,
    "id": "mZhO3Buy4Sis"
   },
   "outputs": [],
   "source": [
    "# словарь с частыми словами\n",
    "common = get_dict_words(test)"
   ]
  },
  {
   "cell_type": "code",
   "execution_count": null,
   "metadata": {
    "id": "ubMP3X-2-ixl"
   },
   "outputs": [],
   "source": [
    "# словарь с полезными терминами\n",
    "my_dict = get_useful(common)"
   ]
  },
  {
   "cell_type": "code",
   "execution_count": 36,
   "metadata": {
    "id": "jW752ahHdmU0"
   },
   "outputs": [],
   "source": [
    "s1 = 'че такое эти ваши производные антимирова'\n",
    "\n",
    "s2 = 'Как можно вычислить частичные производные Антимирова?'"
   ]
  },
  {
   "cell_type": "code",
   "execution_count": null,
   "metadata": {
    "colab": {
     "base_uri": "https://localhost:8080/"
    },
    "id": "pgytyVDsd6LS",
    "outputId": "7f320050-d35a-4d57-e808-2e3489606526"
   },
   "outputs": [
    {
     "name": "stdout",
     "output_type": "stream",
     "text": [
      "['такой', 'производный', 'антимиров']\n",
      "['вычислить', 'частичный', 'производный', 'антимиров']\n"
     ]
    },
    {
     "data": {
      "text/plain": [
       "0.4998750312421894"
      ]
     },
     "execution_count": 49,
     "metadata": {},
     "output_type": "execute_result"
    }
   ],
   "source": [
    "my_metrics(s1, s2, trash_dict=trash_dict)"
   ]
  },
  {
   "cell_type": "markdown",
   "metadata": {
    "id": "q6QZNMrgDqvw"
   },
   "source": [
    "и тут для меня дошло, что, если расписывать вопросы в БЗ, то деление на длину слов вопроса из БЗ (коих будет много) не будет явно и точно отражать близость, но относительно такой штуки можно смотреть динамику"
   ]
  },
  {
   "cell_type": "code",
   "execution_count": 72,
   "metadata": {
    "colab": {
     "base_uri": "https://localhost:8080/"
    },
    "collapsed": true,
    "id": "3C5whEvNwxFP",
    "outputId": "e80de487-b616-43bc-ec08-4ac435f4be67"
   },
   "outputs": [
    {
     "name": "stdout",
     "output_type": "stream",
     "text": [
      "Requirement already satisfied: FlagEmbedding in /usr/local/lib/python3.10/dist-packages (1.3.3)\n",
      "Requirement already satisfied: torch>=1.6.0 in /usr/local/lib/python3.10/dist-packages (from FlagEmbedding) (2.5.1+cu121)\n",
      "Requirement already satisfied: transformers==4.44.2 in /usr/local/lib/python3.10/dist-packages (from FlagEmbedding) (4.44.2)\n",
      "Requirement already satisfied: datasets==2.19.0 in /usr/local/lib/python3.10/dist-packages (from FlagEmbedding) (2.19.0)\n",
      "Requirement already satisfied: accelerate>=0.20.1 in /usr/local/lib/python3.10/dist-packages (from FlagEmbedding) (1.2.1)\n",
      "Requirement already satisfied: sentence-transformers in /usr/local/lib/python3.10/dist-packages (from FlagEmbedding) (3.3.1)\n",
      "Requirement already satisfied: peft in /usr/local/lib/python3.10/dist-packages (from FlagEmbedding) (0.14.0)\n",
      "Requirement already satisfied: ir-datasets in /usr/local/lib/python3.10/dist-packages (from FlagEmbedding) (0.5.9)\n",
      "Requirement already satisfied: sentencepiece in /usr/local/lib/python3.10/dist-packages (from FlagEmbedding) (0.2.0)\n",
      "Requirement already satisfied: protobuf in /usr/local/lib/python3.10/dist-packages (from FlagEmbedding) (4.25.5)\n",
      "Requirement already satisfied: filelock in /usr/local/lib/python3.10/dist-packages (from datasets==2.19.0->FlagEmbedding) (3.16.1)\n",
      "Requirement already satisfied: numpy>=1.17 in /usr/local/lib/python3.10/dist-packages (from datasets==2.19.0->FlagEmbedding) (1.26.4)\n",
      "Requirement already satisfied: pyarrow>=12.0.0 in /usr/local/lib/python3.10/dist-packages (from datasets==2.19.0->FlagEmbedding) (17.0.0)\n",
      "Requirement already satisfied: pyarrow-hotfix in /usr/local/lib/python3.10/dist-packages (from datasets==2.19.0->FlagEmbedding) (0.6)\n",
      "Requirement already satisfied: dill<0.3.9,>=0.3.0 in /usr/local/lib/python3.10/dist-packages (from datasets==2.19.0->FlagEmbedding) (0.3.8)\n",
      "Requirement already satisfied: pandas in /usr/local/lib/python3.10/dist-packages (from datasets==2.19.0->FlagEmbedding) (2.2.2)\n",
      "Requirement already satisfied: requests>=2.19.0 in /usr/local/lib/python3.10/dist-packages (from datasets==2.19.0->FlagEmbedding) (2.32.3)\n",
      "Requirement already satisfied: tqdm>=4.62.1 in /usr/local/lib/python3.10/dist-packages (from datasets==2.19.0->FlagEmbedding) (4.67.1)\n",
      "Requirement already satisfied: xxhash in /usr/local/lib/python3.10/dist-packages (from datasets==2.19.0->FlagEmbedding) (3.5.0)\n",
      "Requirement already satisfied: multiprocess in /usr/local/lib/python3.10/dist-packages (from datasets==2.19.0->FlagEmbedding) (0.70.16)\n",
      "Requirement already satisfied: fsspec<=2024.3.1,>=2023.1.0 in /usr/local/lib/python3.10/dist-packages (from fsspec[http]<=2024.3.1,>=2023.1.0->datasets==2.19.0->FlagEmbedding) (2024.3.1)\n",
      "Requirement already satisfied: aiohttp in /usr/local/lib/python3.10/dist-packages (from datasets==2.19.0->FlagEmbedding) (3.11.10)\n",
      "Requirement already satisfied: huggingface-hub>=0.21.2 in /usr/local/lib/python3.10/dist-packages (from datasets==2.19.0->FlagEmbedding) (0.27.0)\n",
      "Requirement already satisfied: packaging in /usr/local/lib/python3.10/dist-packages (from datasets==2.19.0->FlagEmbedding) (24.2)\n",
      "Requirement already satisfied: pyyaml>=5.1 in /usr/local/lib/python3.10/dist-packages (from datasets==2.19.0->FlagEmbedding) (6.0.2)\n",
      "Requirement already satisfied: regex!=2019.12.17 in /usr/local/lib/python3.10/dist-packages (from transformers==4.44.2->FlagEmbedding) (2024.11.6)\n",
      "Requirement already satisfied: safetensors>=0.4.1 in /usr/local/lib/python3.10/dist-packages (from transformers==4.44.2->FlagEmbedding) (0.4.5)\n",
      "Requirement already satisfied: tokenizers<0.20,>=0.19 in /usr/local/lib/python3.10/dist-packages (from transformers==4.44.2->FlagEmbedding) (0.19.1)\n",
      "Requirement already satisfied: psutil in /usr/local/lib/python3.10/dist-packages (from accelerate>=0.20.1->FlagEmbedding) (5.9.5)\n",
      "Requirement already satisfied: typing-extensions>=4.8.0 in /usr/local/lib/python3.10/dist-packages (from torch>=1.6.0->FlagEmbedding) (4.12.2)\n",
      "Requirement already satisfied: networkx in /usr/local/lib/python3.10/dist-packages (from torch>=1.6.0->FlagEmbedding) (3.4.2)\n",
      "Requirement already satisfied: jinja2 in /usr/local/lib/python3.10/dist-packages (from torch>=1.6.0->FlagEmbedding) (3.1.4)\n",
      "Requirement already satisfied: sympy==1.13.1 in /usr/local/lib/python3.10/dist-packages (from torch>=1.6.0->FlagEmbedding) (1.13.1)\n",
      "Requirement already satisfied: mpmath<1.4,>=1.1.0 in /usr/local/lib/python3.10/dist-packages (from sympy==1.13.1->torch>=1.6.0->FlagEmbedding) (1.3.0)\n",
      "Requirement already satisfied: beautifulsoup4>=4.4.1 in /usr/local/lib/python3.10/dist-packages (from ir-datasets->FlagEmbedding) (4.12.3)\n",
      "Requirement already satisfied: inscriptis>=2.2.0 in /usr/local/lib/python3.10/dist-packages (from ir-datasets->FlagEmbedding) (2.5.0)\n",
      "Requirement already satisfied: lxml>=4.5.2 in /usr/local/lib/python3.10/dist-packages (from ir-datasets->FlagEmbedding) (5.3.0)\n",
      "Requirement already satisfied: trec-car-tools>=2.5.4 in /usr/local/lib/python3.10/dist-packages (from ir-datasets->FlagEmbedding) (2.6)\n",
      "Requirement already satisfied: lz4>=3.1.10 in /usr/local/lib/python3.10/dist-packages (from ir-datasets->FlagEmbedding) (4.3.3)\n",
      "Requirement already satisfied: warc3-wet>=0.2.3 in /usr/local/lib/python3.10/dist-packages (from ir-datasets->FlagEmbedding) (0.2.5)\n",
      "Requirement already satisfied: warc3-wet-clueweb09>=0.2.5 in /usr/local/lib/python3.10/dist-packages (from ir-datasets->FlagEmbedding) (0.2.5)\n",
      "Requirement already satisfied: zlib-state>=0.1.3 in /usr/local/lib/python3.10/dist-packages (from ir-datasets->FlagEmbedding) (0.1.9)\n",
      "Requirement already satisfied: ijson>=3.1.3 in /usr/local/lib/python3.10/dist-packages (from ir-datasets->FlagEmbedding) (3.3.0)\n",
      "Requirement already satisfied: unlzw3>=0.2.1 in /usr/local/lib/python3.10/dist-packages (from ir-datasets->FlagEmbedding) (0.2.3)\n",
      "Requirement already satisfied: scikit-learn in /usr/local/lib/python3.10/dist-packages (from sentence-transformers->FlagEmbedding) (1.6.0)\n",
      "Requirement already satisfied: scipy in /usr/local/lib/python3.10/dist-packages (from sentence-transformers->FlagEmbedding) (1.13.1)\n",
      "Requirement already satisfied: Pillow in /usr/local/lib/python3.10/dist-packages (from sentence-transformers->FlagEmbedding) (11.0.0)\n",
      "Requirement already satisfied: soupsieve>1.2 in /usr/local/lib/python3.10/dist-packages (from beautifulsoup4>=4.4.1->ir-datasets->FlagEmbedding) (2.6)\n",
      "Requirement already satisfied: aiohappyeyeballs>=2.3.0 in /usr/local/lib/python3.10/dist-packages (from aiohttp->datasets==2.19.0->FlagEmbedding) (2.4.4)\n",
      "Requirement already satisfied: aiosignal>=1.1.2 in /usr/local/lib/python3.10/dist-packages (from aiohttp->datasets==2.19.0->FlagEmbedding) (1.3.2)\n",
      "Requirement already satisfied: async-timeout<6.0,>=4.0 in /usr/local/lib/python3.10/dist-packages (from aiohttp->datasets==2.19.0->FlagEmbedding) (4.0.3)\n",
      "Requirement already satisfied: attrs>=17.3.0 in /usr/local/lib/python3.10/dist-packages (from aiohttp->datasets==2.19.0->FlagEmbedding) (24.3.0)\n",
      "Requirement already satisfied: frozenlist>=1.1.1 in /usr/local/lib/python3.10/dist-packages (from aiohttp->datasets==2.19.0->FlagEmbedding) (1.5.0)\n",
      "Requirement already satisfied: multidict<7.0,>=4.5 in /usr/local/lib/python3.10/dist-packages (from aiohttp->datasets==2.19.0->FlagEmbedding) (6.1.0)\n",
      "Requirement already satisfied: propcache>=0.2.0 in /usr/local/lib/python3.10/dist-packages (from aiohttp->datasets==2.19.0->FlagEmbedding) (0.2.1)\n",
      "Requirement already satisfied: yarl<2.0,>=1.17.0 in /usr/local/lib/python3.10/dist-packages (from aiohttp->datasets==2.19.0->FlagEmbedding) (1.18.3)\n",
      "Requirement already satisfied: charset-normalizer<4,>=2 in /usr/local/lib/python3.10/dist-packages (from requests>=2.19.0->datasets==2.19.0->FlagEmbedding) (3.4.0)\n",
      "Requirement already satisfied: idna<4,>=2.5 in /usr/local/lib/python3.10/dist-packages (from requests>=2.19.0->datasets==2.19.0->FlagEmbedding) (3.10)\n",
      "Requirement already satisfied: urllib3<3,>=1.21.1 in /usr/local/lib/python3.10/dist-packages (from requests>=2.19.0->datasets==2.19.0->FlagEmbedding) (2.2.3)\n",
      "Requirement already satisfied: certifi>=2017.4.17 in /usr/local/lib/python3.10/dist-packages (from requests>=2.19.0->datasets==2.19.0->FlagEmbedding) (2024.12.14)\n",
      "Requirement already satisfied: cbor>=1.0.0 in /usr/local/lib/python3.10/dist-packages (from trec-car-tools>=2.5.4->ir-datasets->FlagEmbedding) (1.0.0)\n",
      "Requirement already satisfied: MarkupSafe>=2.0 in /usr/local/lib/python3.10/dist-packages (from jinja2->torch>=1.6.0->FlagEmbedding) (3.0.2)\n",
      "Requirement already satisfied: python-dateutil>=2.8.2 in /usr/local/lib/python3.10/dist-packages (from pandas->datasets==2.19.0->FlagEmbedding) (2.8.2)\n",
      "Requirement already satisfied: pytz>=2020.1 in /usr/local/lib/python3.10/dist-packages (from pandas->datasets==2.19.0->FlagEmbedding) (2024.2)\n",
      "Requirement already satisfied: tzdata>=2022.7 in /usr/local/lib/python3.10/dist-packages (from pandas->datasets==2.19.0->FlagEmbedding) (2024.2)\n",
      "Requirement already satisfied: joblib>=1.2.0 in /usr/local/lib/python3.10/dist-packages (from scikit-learn->sentence-transformers->FlagEmbedding) (1.4.2)\n",
      "Requirement already satisfied: threadpoolctl>=3.1.0 in /usr/local/lib/python3.10/dist-packages (from scikit-learn->sentence-transformers->FlagEmbedding) (3.5.0)\n",
      "Requirement already satisfied: six>=1.5 in /usr/local/lib/python3.10/dist-packages (from python-dateutil>=2.8.2->pandas->datasets==2.19.0->FlagEmbedding) (1.17.0)\n"
     ]
    }
   ],
   "source": [
    "!pip install FlagEmbedding"
   ]
  },
  {
   "cell_type": "code",
   "execution_count": 73,
   "metadata": {
    "colab": {
     "base_uri": "https://localhost:8080/",
     "height": 49,
     "referenced_widgets": [
      "f82667ff6c1942e4952121ba5e1923ea",
      "344bdcd2123045eb83f34c54f9858a13",
      "b5d7daf0a9f54f35a658a41ed9f5cec8",
      "5af407bf6155464d8de2504fc618b4fd",
      "84d5c47c9fd94cc1a5c15b17629ceab6",
      "289845da237546a1a5bb6f6ce6d99154",
      "a09ee8e503a8484e8b28d13b36b224fa",
      "0ca3176a2c764ff082044b80916cec27",
      "c23595416e8d46eaa4ec7195fee48838",
      "8cde040e5d49452997d4de90649f486a",
      "078cd8bd952e4a438b458cea57602748"
     ]
    },
    "collapsed": true,
    "id": "VI7BNclkw9Ou",
    "outputId": "8915df4e-846b-4b8e-9ab2-d212e61e8ae4"
   },
   "outputs": [
    {
     "data": {
      "application/vnd.jupyter.widget-view+json": {
       "model_id": "f82667ff6c1942e4952121ba5e1923ea",
       "version_major": 2,
       "version_minor": 0
      },
      "text/plain": [
       "Fetching 30 files:   0%|          | 0/30 [00:00<?, ?it/s]"
      ]
     },
     "metadata": {},
     "output_type": "display_data"
    }
   ],
   "source": [
    "from FlagEmbedding import BGEM3FlagModel\n",
    "\n",
    "model = BGEM3FlagModel('BAAI/bge-m3',  use_fp16=True)"
   ]
  },
  {
   "cell_type": "code",
   "execution_count": 74,
   "metadata": {
    "colab": {
     "base_uri": "https://localhost:8080/"
    },
    "collapsed": true,
    "id": "M6pyw0cizrKr",
    "outputId": "dd24e2a1-30c2-4aee-a733-2eb17da9dd2f"
   },
   "outputs": [
    {
     "name": "stderr",
     "output_type": "stream",
     "text": [
      "/usr/local/lib/python3.10/dist-packages/transformers/tokenization_utils_base.py:1601: FutureWarning: `clean_up_tokenization_spaces` was not set. It will be set to `True` by default. This behavior will be depracted in transformers v4.45, and will be then set to `False` by default. For more details check this issue: https://github.com/huggingface/transformers/issues/31884\n",
      "  warnings.warn(\n"
     ]
    }
   ],
   "source": [
    "from sentence_transformers import SentenceTransformer\n",
    "\n",
    "mmm = SentenceTransformer(\"sentence-transformers/all-mpnet-base-v2\")"
   ]
  },
  {
   "cell_type": "code",
   "execution_count": 75,
   "metadata": {
    "id": "vaQbzNkS2SG9"
   },
   "outputs": [],
   "source": [
    "sentences_1 = ['че такое эти ваши производные антимирова',\n",
    "               \"великая и всемогущая модель, расскажи мне про регулярные языки\",\n",
    "               \"правда, что любой язык детерминирован?\"]\n",
    "sentences_2 = ['Как можно вычислить частичные производные Антимирова?',\n",
    "               \"расскажи деревья разбора\",\n",
    "               \"Что представляет собой язык, распознаваемый недетерминированным конечным автоматом (НКА)?\"]"
   ]
  },
  {
   "cell_type": "code",
   "execution_count": 76,
   "metadata": {
    "colab": {
     "base_uri": "https://localhost:8080/"
    },
    "id": "niysV3awx8eZ",
    "outputId": "f1bd3723-d09e-484a-e7f2-9853a3266480"
   },
   "outputs": [
    {
     "name": "stderr",
     "output_type": "stream",
     "text": [
      "You're using a XLMRobertaTokenizerFast tokenizer. Please note that with a fast tokenizer, using the `__call__` method is faster than using a method to encode the text followed by a call to the `pad` method to get a padded encoding.\n"
     ]
    }
   ],
   "source": [
    "embeddings_1 = model.encode(sentences_1)['dense_vecs']\n",
    "embeddings_2 = model.encode(sentences_2)['dense_vecs']"
   ]
  },
  {
   "cell_type": "code",
   "execution_count": 77,
   "metadata": {
    "id": "zMsCd9Ri5jvL"
   },
   "outputs": [],
   "source": [
    "em_1 = mmm.encode(sentences_1)\n",
    "em_2 = mmm.encode(sentences_2)"
   ]
  },
  {
   "cell_type": "code",
   "execution_count": 78,
   "metadata": {
    "colab": {
     "base_uri": "https://localhost:8080/"
    },
    "collapsed": true,
    "id": "eOxM8uv74kOx",
    "outputId": "12966169-1e9a-4a76-8621-bacc66472348"
   },
   "outputs": [
    {
     "name": "stdout",
     "output_type": "stream",
     "text": [
      "че такое эти ваши производные антимирова AND Как можно вычислить частичные производные Антимирова?:  0.6444841 0.85528797\n",
      "че такое эти ваши производные антимирова AND расскажи деревья разбора:  0.32307824 0.5920198\n",
      "че такое эти ваши производные антимирова AND Что представляет собой язык, распознаваемый недетерминированным конечным автоматом (НКА)?:  0.26799577 0.6695769\n",
      "великая и всемогущая модель, расскажи мне про регулярные языки AND Как можно вычислить частичные производные Антимирова?:  0.3195983 0.6621109\n",
      "великая и всемогущая модель, расскажи мне про регулярные языки AND расскажи деревья разбора:  0.46826863 0.6026131\n",
      "великая и всемогущая модель, расскажи мне про регулярные языки AND Что представляет собой язык, распознаваемый недетерминированным конечным автоматом (НКА)?:  0.49805534 0.656705\n",
      "правда, что любой язык детерминирован? AND Как можно вычислить частичные производные Антимирова?:  0.30123478 0.6517712\n",
      "правда, что любой язык детерминирован? AND расскажи деревья разбора:  0.39873922 0.66764456\n",
      "правда, что любой язык детерминирован? AND Что представляет собой язык, распознаваемый недетерминированным конечным автоматом (НКА)?:  0.58006936 0.60047317\n"
     ]
    }
   ],
   "source": [
    "for i in range(len(embeddings_1)):\n",
    "    for j in range(len(embeddings_2)):\n",
    "        e_1 = embeddings_1[i]\n",
    "        e_2 = embeddings_2[j]\n",
    "        st_1 = em_1[i]\n",
    "        st_2 = em_2[j]\n",
    "        s_1 = sentences_1[i]\n",
    "        s_2 = sentences_2[j]\n",
    "        print(f'{s_1} AND {s_2}: ', e_1 @ e_2, st_1 @ st_2)"
   ]
  },
  {
   "cell_type": "code",
   "execution_count": null,
   "metadata": {
    "id": "cMfWelM72i4D"
   },
   "outputs": [],
   "source": []
  }
 ],
 "metadata": {
  "colab": {
   "collapsed_sections": [
    "eBdqyMMU0_GZ",
    "CxCQYjIPsd65",
    "Hc3EmqlPrQjB"
   ],
   "provenance": []
  },
  "jupytext": {
   "main_language": "python"
  },
  "kernelspec": {
   "display_name": "Python 3",
   "name": "python3"
  },
  "language_info": {
   "name": "python"
  },
  "widgets": {
   "application/vnd.jupyter.widget-state+json": {
    "078cd8bd952e4a438b458cea57602748": {
     "model_module": "@jupyter-widgets/controls",
     "model_module_version": "1.5.0",
     "model_name": "DescriptionStyleModel",
     "state": {
      "_model_module": "@jupyter-widgets/controls",
      "_model_module_version": "1.5.0",
      "_model_name": "DescriptionStyleModel",
      "_view_count": null,
      "_view_module": "@jupyter-widgets/base",
      "_view_module_version": "1.2.0",
      "_view_name": "StyleView",
      "description_width": ""
     }
    },
    "0ca3176a2c764ff082044b80916cec27": {
     "model_module": "@jupyter-widgets/base",
     "model_module_version": "1.2.0",
     "model_name": "LayoutModel",
     "state": {
      "_model_module": "@jupyter-widgets/base",
      "_model_module_version": "1.2.0",
      "_model_name": "LayoutModel",
      "_view_count": null,
      "_view_module": "@jupyter-widgets/base",
      "_view_module_version": "1.2.0",
      "_view_name": "LayoutView",
      "align_content": null,
      "align_items": null,
      "align_self": null,
      "border": null,
      "bottom": null,
      "display": null,
      "flex": null,
      "flex_flow": null,
      "grid_area": null,
      "grid_auto_columns": null,
      "grid_auto_flow": null,
      "grid_auto_rows": null,
      "grid_column": null,
      "grid_gap": null,
      "grid_row": null,
      "grid_template_areas": null,
      "grid_template_columns": null,
      "grid_template_rows": null,
      "height": null,
      "justify_content": null,
      "justify_items": null,
      "left": null,
      "margin": null,
      "max_height": null,
      "max_width": null,
      "min_height": null,
      "min_width": null,
      "object_fit": null,
      "object_position": null,
      "order": null,
      "overflow": null,
      "overflow_x": null,
      "overflow_y": null,
      "padding": null,
      "right": null,
      "top": null,
      "visibility": null,
      "width": null
     }
    },
    "289845da237546a1a5bb6f6ce6d99154": {
     "model_module": "@jupyter-widgets/base",
     "model_module_version": "1.2.0",
     "model_name": "LayoutModel",
     "state": {
      "_model_module": "@jupyter-widgets/base",
      "_model_module_version": "1.2.0",
      "_model_name": "LayoutModel",
      "_view_count": null,
      "_view_module": "@jupyter-widgets/base",
      "_view_module_version": "1.2.0",
      "_view_name": "LayoutView",
      "align_content": null,
      "align_items": null,
      "align_self": null,
      "border": null,
      "bottom": null,
      "display": null,
      "flex": null,
      "flex_flow": null,
      "grid_area": null,
      "grid_auto_columns": null,
      "grid_auto_flow": null,
      "grid_auto_rows": null,
      "grid_column": null,
      "grid_gap": null,
      "grid_row": null,
      "grid_template_areas": null,
      "grid_template_columns": null,
      "grid_template_rows": null,
      "height": null,
      "justify_content": null,
      "justify_items": null,
      "left": null,
      "margin": null,
      "max_height": null,
      "max_width": null,
      "min_height": null,
      "min_width": null,
      "object_fit": null,
      "object_position": null,
      "order": null,
      "overflow": null,
      "overflow_x": null,
      "overflow_y": null,
      "padding": null,
      "right": null,
      "top": null,
      "visibility": null,
      "width": null
     }
    },
    "344bdcd2123045eb83f34c54f9858a13": {
     "model_module": "@jupyter-widgets/controls",
     "model_module_version": "1.5.0",
     "model_name": "HTMLModel",
     "state": {
      "_dom_classes": [],
      "_model_module": "@jupyter-widgets/controls",
      "_model_module_version": "1.5.0",
      "_model_name": "HTMLModel",
      "_view_count": null,
      "_view_module": "@jupyter-widgets/controls",
      "_view_module_version": "1.5.0",
      "_view_name": "HTMLView",
      "description": "",
      "description_tooltip": null,
      "layout": "IPY_MODEL_289845da237546a1a5bb6f6ce6d99154",
      "placeholder": "​",
      "style": "IPY_MODEL_a09ee8e503a8484e8b28d13b36b224fa",
      "value": "Fetching 30 files: 100%"
     }
    },
    "5af407bf6155464d8de2504fc618b4fd": {
     "model_module": "@jupyter-widgets/controls",
     "model_module_version": "1.5.0",
     "model_name": "HTMLModel",
     "state": {
      "_dom_classes": [],
      "_model_module": "@jupyter-widgets/controls",
      "_model_module_version": "1.5.0",
      "_model_name": "HTMLModel",
      "_view_count": null,
      "_view_module": "@jupyter-widgets/controls",
      "_view_module_version": "1.5.0",
      "_view_name": "HTMLView",
      "description": "",
      "description_tooltip": null,
      "layout": "IPY_MODEL_8cde040e5d49452997d4de90649f486a",
      "placeholder": "​",
      "style": "IPY_MODEL_078cd8bd952e4a438b458cea57602748",
      "value": " 30/30 [00:00&lt;00:00, 337.91it/s]"
     }
    },
    "84d5c47c9fd94cc1a5c15b17629ceab6": {
     "model_module": "@jupyter-widgets/base",
     "model_module_version": "1.2.0",
     "model_name": "LayoutModel",
     "state": {
      "_model_module": "@jupyter-widgets/base",
      "_model_module_version": "1.2.0",
      "_model_name": "LayoutModel",
      "_view_count": null,
      "_view_module": "@jupyter-widgets/base",
      "_view_module_version": "1.2.0",
      "_view_name": "LayoutView",
      "align_content": null,
      "align_items": null,
      "align_self": null,
      "border": null,
      "bottom": null,
      "display": null,
      "flex": null,
      "flex_flow": null,
      "grid_area": null,
      "grid_auto_columns": null,
      "grid_auto_flow": null,
      "grid_auto_rows": null,
      "grid_column": null,
      "grid_gap": null,
      "grid_row": null,
      "grid_template_areas": null,
      "grid_template_columns": null,
      "grid_template_rows": null,
      "height": null,
      "justify_content": null,
      "justify_items": null,
      "left": null,
      "margin": null,
      "max_height": null,
      "max_width": null,
      "min_height": null,
      "min_width": null,
      "object_fit": null,
      "object_position": null,
      "order": null,
      "overflow": null,
      "overflow_x": null,
      "overflow_y": null,
      "padding": null,
      "right": null,
      "top": null,
      "visibility": null,
      "width": null
     }
    },
    "8cde040e5d49452997d4de90649f486a": {
     "model_module": "@jupyter-widgets/base",
     "model_module_version": "1.2.0",
     "model_name": "LayoutModel",
     "state": {
      "_model_module": "@jupyter-widgets/base",
      "_model_module_version": "1.2.0",
      "_model_name": "LayoutModel",
      "_view_count": null,
      "_view_module": "@jupyter-widgets/base",
      "_view_module_version": "1.2.0",
      "_view_name": "LayoutView",
      "align_content": null,
      "align_items": null,
      "align_self": null,
      "border": null,
      "bottom": null,
      "display": null,
      "flex": null,
      "flex_flow": null,
      "grid_area": null,
      "grid_auto_columns": null,
      "grid_auto_flow": null,
      "grid_auto_rows": null,
      "grid_column": null,
      "grid_gap": null,
      "grid_row": null,
      "grid_template_areas": null,
      "grid_template_columns": null,
      "grid_template_rows": null,
      "height": null,
      "justify_content": null,
      "justify_items": null,
      "left": null,
      "margin": null,
      "max_height": null,
      "max_width": null,
      "min_height": null,
      "min_width": null,
      "object_fit": null,
      "object_position": null,
      "order": null,
      "overflow": null,
      "overflow_x": null,
      "overflow_y": null,
      "padding": null,
      "right": null,
      "top": null,
      "visibility": null,
      "width": null
     }
    },
    "a09ee8e503a8484e8b28d13b36b224fa": {
     "model_module": "@jupyter-widgets/controls",
     "model_module_version": "1.5.0",
     "model_name": "DescriptionStyleModel",
     "state": {
      "_model_module": "@jupyter-widgets/controls",
      "_model_module_version": "1.5.0",
      "_model_name": "DescriptionStyleModel",
      "_view_count": null,
      "_view_module": "@jupyter-widgets/base",
      "_view_module_version": "1.2.0",
      "_view_name": "StyleView",
      "description_width": ""
     }
    },
    "b5d7daf0a9f54f35a658a41ed9f5cec8": {
     "model_module": "@jupyter-widgets/controls",
     "model_module_version": "1.5.0",
     "model_name": "FloatProgressModel",
     "state": {
      "_dom_classes": [],
      "_model_module": "@jupyter-widgets/controls",
      "_model_module_version": "1.5.0",
      "_model_name": "FloatProgressModel",
      "_view_count": null,
      "_view_module": "@jupyter-widgets/controls",
      "_view_module_version": "1.5.0",
      "_view_name": "ProgressView",
      "bar_style": "success",
      "description": "",
      "description_tooltip": null,
      "layout": "IPY_MODEL_0ca3176a2c764ff082044b80916cec27",
      "max": 30,
      "min": 0,
      "orientation": "horizontal",
      "style": "IPY_MODEL_c23595416e8d46eaa4ec7195fee48838",
      "value": 30
     }
    },
    "c23595416e8d46eaa4ec7195fee48838": {
     "model_module": "@jupyter-widgets/controls",
     "model_module_version": "1.5.0",
     "model_name": "ProgressStyleModel",
     "state": {
      "_model_module": "@jupyter-widgets/controls",
      "_model_module_version": "1.5.0",
      "_model_name": "ProgressStyleModel",
      "_view_count": null,
      "_view_module": "@jupyter-widgets/base",
      "_view_module_version": "1.2.0",
      "_view_name": "StyleView",
      "bar_color": null,
      "description_width": ""
     }
    },
    "f82667ff6c1942e4952121ba5e1923ea": {
     "model_module": "@jupyter-widgets/controls",
     "model_module_version": "1.5.0",
     "model_name": "HBoxModel",
     "state": {
      "_dom_classes": [],
      "_model_module": "@jupyter-widgets/controls",
      "_model_module_version": "1.5.0",
      "_model_name": "HBoxModel",
      "_view_count": null,
      "_view_module": "@jupyter-widgets/controls",
      "_view_module_version": "1.5.0",
      "_view_name": "HBoxView",
      "box_style": "",
      "children": [
       "IPY_MODEL_344bdcd2123045eb83f34c54f9858a13",
       "IPY_MODEL_b5d7daf0a9f54f35a658a41ed9f5cec8",
       "IPY_MODEL_5af407bf6155464d8de2504fc618b4fd"
      ],
      "layout": "IPY_MODEL_84d5c47c9fd94cc1a5c15b17629ceab6"
     }
    }
   }
  }
 },
 "nbformat": 4,
 "nbformat_minor": 0
}
